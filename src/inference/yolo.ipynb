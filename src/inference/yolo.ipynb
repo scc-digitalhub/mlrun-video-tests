{
 "cells": [
  {
   "cell_type": "markdown",
   "id": "92d49169",
   "metadata": {},
   "source": [
    "# Analising Video with YOLO and MLRun\n"
   ]
  },
  {
   "cell_type": "markdown",
   "id": "86252f82",
   "metadata": {},
   "source": [
    "In this notebook we are going to analise the objects from a video file using the following process:"
   ]
  },
  {
   "cell_type": "markdown",
   "id": "31805252",
   "metadata": {},
   "source": [
    "### Split and Upload Files to Minio\n"
   ]
  },
  {
   "cell_type": "code",
   "execution_count": null,
   "id": "c93cd4b1",
   "metadata": {},
   "outputs": [],
   "source": [
    "%pip install opencv-python"
   ]
  },
  {
   "cell_type": "code",
   "execution_count": null,
   "id": "56265ace-6d2d-42db-8f3c-e78a080e86f5",
   "metadata": {},
   "outputs": [],
   "source": [
    "from video_spliter import Video_Spliter"
   ]
  },
  {
   "cell_type": "code",
   "execution_count": null,
   "id": "47f8dfa4-caaa-4af6-8880-31061ad962fc",
   "metadata": {},
   "outputs": [],
   "source": [
    "secrets = {\"MINIO_URL\": \"\", \"MINIO_AK\": \"\", \"MINIO_SK\": \"\"}"
   ]
  },
  {
   "cell_type": "code",
   "execution_count": null,
   "id": "32ec78d9",
   "metadata": {},
   "outputs": [],
   "source": [
    "v = Video_Spliter()"
   ]
  },
  {
   "cell_type": "code",
   "execution_count": null,
   "id": "1e000b24",
   "metadata": {},
   "outputs": [],
   "source": [
    "v.split_video('mov_bbb.mp4', 'data')"
   ]
  },
  {
   "cell_type": "markdown",
   "id": "dccb3350",
   "metadata": {},
   "source": [
    "### Upload Data to Minio\n"
   ]
  },
  {
   "cell_type": "code",
   "execution_count": null,
   "id": "628016c5",
   "metadata": {},
   "outputs": [],
   "source": [
    "%pip install minio"
   ]
  },
  {
   "cell_type": "code",
   "execution_count": null,
   "id": "2770a771",
   "metadata": {},
   "outputs": [],
   "source": [
    "import minio\n",
    "client = minio.Minio(secrets[\"MINIO_URL\"], access_key=secrets[\"MINIO_AK\"], secret_key=secrets[\"MINIO_SK\"])"
   ]
  },
  {
   "cell_type": "code",
   "execution_count": null,
   "id": "465f1a8f",
   "metadata": {},
   "outputs": [],
   "source": [
    "import os\n",
    "\n",
    "def upload_local_directory_to_minio(client, local_path, bucket_name, minio_path):\n",
    "  \"\"\"Uploads a local directory to a Minio bucket.\n",
    "\n",
    "  Args:\n",
    "    local_path: The path to the local directory.\n",
    "    bucket_name: The name of the Minio bucket.\n",
    "    minio_path: The path to the directory in the Minio bucket.\n",
    "  \"\"\"\n",
    "\n",
    "  assert os.path.isdir(local_path)\n",
    "  for root, dirs, files in os.walk(local_path):\n",
    "    for file in files:\n",
    "      remote_path = os.path.join(minio_path, os.path.relpath(os.path.join(root, file), local_path))\n",
    "      remote_path = remote_path.replace(os.sep, '/')\n",
    "\n",
    "      # Upload the file.\n",
    "      client.fput_object(bucket_name, remote_path, os.path.join(root, file))\n",
    "\n",
    "upload_local_directory_to_minio(client, 'data/mov_bbb.mp4/', 'video', 'mov_bbb.mp4')\n"
   ]
  },
  {
   "cell_type": "markdown",
   "id": "edcc0909",
   "metadata": {},
   "source": [
    "List objects in the frame order"
   ]
  },
  {
   "cell_type": "code",
   "execution_count": null,
   "id": "c65be9b5",
   "metadata": {},
   "outputs": [],
   "source": [
    "objects = client.list_objects(\n",
    "    \"video\", recursive=True, prefix=\"mov_bbb.mp4/frames/\"\n",
    ")\n",
    "file_names = [obj.object_name for obj in objects]\n",
    "file_names = sorted(file_names, key=lambda string: string.lower())\n",
    "file_names[-1]\n"
   ]
  },
  {
   "cell_type": "markdown",
   "id": "ae2bfff9",
   "metadata": {},
   "source": [
    "### Create MLRun Model Serving"
   ]
  },
  {
   "cell_type": "markdown",
   "id": "50a234df",
   "metadata": {},
   "source": [
    "Create the custom server class: serving.py "
   ]
  },
  {
   "cell_type": "markdown",
   "id": "b97451ee",
   "metadata": {},
   "source": [
    "```python\n",
    "from typing import List\n",
    "import mlrun\n",
    "import torch\n",
    "import minio\n",
    "from PIL import Image\n",
    "\n",
    "\n",
    "class ClassifierModel(mlrun.serving.V2ModelServer):\n",
    "    def load(self):\n",
    "        \"\"\"load and initialize the model and/or other elements\"\"\"\n",
    "        print(\"aa\")\n",
    "        torch.hub.set_dir('.')\n",
    "        self.model = torch.hub.load('ultralytics/yolov5', 'yolov5s')\n",
    "        self.minio_client = minio.Minio('my-docker-ip:9000', access_key='', secret_key='', secure=False)\n",
    "\n",
    "    def dowload_files(self, bucket: str, path_list: list):\n",
    "        images = []\n",
    "        for path in path_list:\n",
    "            try:\n",
    "                # dowload image\n",
    "                self.minio_client.fget_object(bucket, path, \"test.jpg\")\n",
    "                im = Image.open('test.jpg')\n",
    "                images.append(im)\n",
    "            except Exception as e:\n",
    "                print(e)\n",
    "                continue\n",
    "        \n",
    "        return images\n",
    "\n",
    "    def predict(self, body: dict) -> List:\n",
    "        \"\"\"Generate model predictions from sample.\"\"\"\n",
    "        images = self.dowload_files(str(body[\"bucket\"]), body['inputs'])\n",
    "        result = self.model(images)\n",
    "        return str(result.tolist())\n",
    "```"
   ]
  },
  {
   "cell_type": "code",
   "execution_count": null,
   "id": "7eb4c4bb",
   "metadata": {
    "scrolled": true,
    "tags": []
   },
   "outputs": [],
   "source": [
    "%pip install mlrun"
   ]
  },
  {
   "cell_type": "code",
   "execution_count": null,
   "id": "fd451546",
   "metadata": {},
   "outputs": [],
   "source": [
    "import mlrun\n",
    "\n",
    "project = mlrun.get_or_create_project('yolo', context=\"./\", user_project=True)"
   ]
  },
  {
   "cell_type": "code",
   "execution_count": null,
   "id": "9e7f971b-9442-46a8-a81e-67c1c7beb5d4",
   "metadata": {},
   "outputs": [],
   "source": [
    "project.set_secrets(secrets=secrets, provider=\"kubernetes\")"
   ]
  },
  {
   "cell_type": "code",
   "execution_count": null,
   "id": "dccdd126",
   "metadata": {},
   "outputs": [],
   "source": [
    "object_tracker = mlrun.code_to_function('object_tracker', filename='image_tracking.py', kind='serving',image='smartcommunitylab/yolov5-minio:tst')"
   ]
  },
  {
   "cell_type": "code",
   "execution_count": null,
   "id": "c7baa97a-93f3-4268-9237-646b38a29e5a",
   "metadata": {},
   "outputs": [],
   "source": [
    "# define resources\n",
    "object_tracker.spec.replicas = 1\n",
    "from kubernetes import client\n",
    "tol = [\n",
    "    client.V1Toleration(\n",
    "        key='nvidia.com/gpu',\n",
    "        operator='Equal',\n",
    "        value='v100',\n",
    "        effect='NoSchedule',\n",
    "    )\n",
    "]\n",
    "object_tracker.with_node_selection(tolerations=tol)\n",
    "object_tracker.with_limits(gpus=1,mem=\"70G\")"
   ]
  },
  {
   "cell_type": "code",
   "execution_count": null,
   "id": "02898a36",
   "metadata": {},
   "outputs": [],
   "source": [
    "object_tracker.add_model('Pytorch',model_path=  ' ', class_name='TrackingModel')"
   ]
  },
  {
   "cell_type": "code",
   "execution_count": null,
   "id": "a9495bef",
   "metadata": {},
   "outputs": [],
   "source": [
    "object_tracker.spec.graph.plot(rankdir=\"LR\")    "
   ]
  },
  {
   "cell_type": "markdown",
   "id": "46b855fe",
   "metadata": {},
   "source": [
    "Install dependencies to local testing"
   ]
  },
  {
   "cell_type": "markdown",
   "id": "944ed30a",
   "metadata": {},
   "source": [
    "### Deploy Model Server on Nucleo and test"
   ]
  },
  {
   "cell_type": "code",
   "execution_count": null,
   "id": "784d8be8",
   "metadata": {},
   "outputs": [],
   "source": [
    "import time\n",
    "\n",
    "project.deploy_function(object_tracker)\n",
    "# wait 30s after the deployment to the server statup \n",
    "time.sleep(30)"
   ]
  },
  {
   "cell_type": "code",
   "execution_count": null,
   "id": "acc24784-b5a9-4a9d-b27c-7120131480d4",
   "metadata": {},
   "outputs": [],
   "source": [
    "import time\n",
    "\n",
    "project.deploy_function(object_detector)\n",
    "# wait 30s after the deployment to the server statup \n",
    "time.sleep(30)"
   ]
  },
  {
   "cell_type": "code",
   "execution_count": null,
   "id": "6eb96f1d",
   "metadata": {},
   "outputs": [],
   "source": [
    "sample = {\"inputs\": file_names, \"bucket\": \"video\"}\n",
    "result = object_detector.invoke(path=f\"/v2/models/Pytorch/infer\", body=sample)"
   ]
  },
  {
   "cell_type": "code",
   "execution_count": null,
   "id": "62a3c604-357b-4284-b348-b294e5ac63b4",
   "metadata": {},
   "outputs": [],
   "source": [
    "sample = {\"inputs\": file_names, \"bucket\": \"video\"}\n",
    "result = object_tracker.invoke(path=f\"/v2/models/Pytorch/infer\", body=sample)"
   ]
  },
  {
   "cell_type": "markdown",
   "id": "5640b38d",
   "metadata": {},
   "source": [
    "### Remake video"
   ]
  },
  {
   "cell_type": "markdown",
   "id": "7debfc39",
   "metadata": {},
   "source": [
    "The OpenCV version from pip only supports the mp4v codec due to license issues. To support other codecs, you can install OpenCV from the conda-forge channel.\n",
    "\n",
    "```conda install -c conda-forge opencv```\n",
    "\n",
    "or via apt:\n",
    "\n",
    "```apt-get install python3-opencv```"
   ]
  },
  {
   "cell_type": "code",
   "execution_count": null,
   "id": "fb6edbad",
   "metadata": {},
   "outputs": [],
   "source": [
    "v.frames_to_video(\"data/mov_bbb.mp4/\", True)"
   ]
  },
  {
   "cell_type": "code",
   "execution_count": null,
   "id": "39404644-1f98-4757-8731-3a910183db29",
   "metadata": {},
   "outputs": [],
   "source": []
  }
 ],
 "metadata": {
  "kernelspec": {
   "display_name": "Python 3 (ipykernel)",
   "language": "python",
   "name": "python3"
  },
  "language_info": {
   "codemirror_mode": {
    "name": "ipython",
    "version": 3
   },
   "file_extension": ".py",
   "mimetype": "text/x-python",
   "name": "python",
   "nbconvert_exporter": "python",
   "pygments_lexer": "ipython3",
   "version": "3.9.13"
  }
 },
 "nbformat": 4,
 "nbformat_minor": 5
}
