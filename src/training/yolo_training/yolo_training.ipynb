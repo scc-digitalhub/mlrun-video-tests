{
 "cells": [
  {
   "cell_type": "markdown",
   "id": "5adf5f3c",
   "metadata": {},
   "source": [
    "#### Training using Yolov8\n",
    "\n",
    "First step it is to create our project"
   ]
  },
  {
   "cell_type": "code",
   "execution_count": null,
   "id": "3732cddd-0ba1-4105-a52c-8f60a7822e9b",
   "metadata": {},
   "outputs": [],
   "source": [
    "import mlrun\n",
    "\n",
    "project = mlrun.get_or_create_project('yolotraining', context=\"./\", user_project=True)"
   ]
  },
  {
   "cell_type": "markdown",
   "id": "51612178-2e08-47b3-a602-0df1ecbb9f4d",
   "metadata": {},
   "source": [
    "Create Secrets"
   ]
  },
  {
   "cell_type": "code",
   "execution_count": null,
   "id": "6c4ba60e-ff75-4bb6-86fc-ab045a22a56f",
   "metadata": {},
   "outputs": [],
   "source": [
    "secrets = {\"MINIO_URL\": \"\", \"MINIO_AK\": \"\", \"MINIO_SK\": \"\"}"
   ]
  },
  {
   "cell_type": "code",
   "execution_count": null,
   "id": "dc43b0fe-171e-4c0d-80df-2e0162000556",
   "metadata": {},
   "outputs": [],
   "source": [
    "project.set_secrets(secrets=secrets, provider=\"kubernetes\")"
   ]
  },
  {
   "cell_type": "markdown",
   "id": "eabae208",
   "metadata": {},
   "source": [
    "For this project we created a simple traning function, in the job_func file we have the following traning function:\n",
    "\n",
    "```python\n",
    "import io\n",
    "import os\n",
    "from datetime import datetime\n",
    "\n",
    "import minio\n",
    "from ultralytics import YOLO\n",
    "\n",
    "\n",
    "# Recursively traverse the local folder and upload files.\n",
    "def upload_files(folderPath, objectPrefix, minioClient, bucketName):\n",
    "    # add date\n",
    "    now = str(datetime.now())\n",
    "    for root, _, files in os.walk(folderPath):\n",
    "        for fileName in files:\n",
    "            filePath = os.path.join(root, fileName)\n",
    "            relativePath = os.path.relpath(filePath, folderPath)\n",
    "            objectPath = os.path.join(now, objectPrefix, relativePath)\n",
    "\n",
    "            minioClient.fput_object(bucketName, objectPath, filePath)\n",
    "\n",
    "\n",
    "def yolo_train(context, params: dict):\n",
    "    model = YOLO(params[\"base_model\"])\n",
    "    results = model.train(\n",
    "        data=params[\"data\"], epochs=params[\"epochs\"], imgsz=params[\"imgsz\"]\n",
    "    )\n",
    "\n",
    "    minioClient = minio.Minio(\n",
    "        os.environ.get(\"MLRUN_K8S_SECRET__MINIO_URL\"),\n",
    "        access_key=os.environ.get(\"MLRUN_K8S_SECRET__MINIO_AK\"),\n",
    "        secret_key=os.environ.get(\"MLRUN_K8S_SECRET__MINIO_SK\"),\n",
    "    )\n",
    "\n",
    "    # Set the bucket and folder names.\n",
    "    bucketName = \"models\"\n",
    "    folderName = \"runs/detect/train\"\n",
    "\n",
    "    # Create the folder in Minio if it doesn't already exist.\n",
    "    if not minioClient.bucket_exists(bucketName):\n",
    "        minioClient.make_bucket(bucketName)\n",
    "\n",
    "    # Upload files from the specified folder.\n",
    "    upload_files(folderName, folderName, minioClient, bucketName)\n",
    "\n",
    "```"
   ]
  },
  {
   "cell_type": "markdown",
   "id": "b145da76",
   "metadata": {},
   "source": [
    "Then we set our new function based on our file `job_func.py` as a `job` and set the hadler to be the name of our training function `yolo_train()`. For the image we are going the use the one recomended for Deep Learning algoritms. If you have a GPU change the image to `mlrun/mlrun-gpu`"
   ]
  },
  {
   "cell_type": "code",
   "execution_count": null,
   "id": "9bd3cda6-4ad6-4e88-b999-d94c968946ab",
   "metadata": {},
   "outputs": [],
   "source": [
    "fn = project.set_function(\n",
    "    name=\"python\", func=\"job_func.py\",  kind=\"job\",\n",
    "    image=\"smartcommunitylab/yolov5-minio:tst\", handler=\"yolo_train\"\n",
    ")"
   ]
  },
  {
   "cell_type": "markdown",
   "id": "0df4a0b9",
   "metadata": {},
   "source": [
    "Next, we specify the build commands for our image, installing minio and the ultralytics requirements"
   ]
  },
  {
   "cell_type": "code",
   "execution_count": null,
   "id": "cf4b5d88-f5ed-4e51-8e3a-91874de3dbe9",
   "metadata": {},
   "outputs": [],
   "source": [
    "fn.spec.build.commands = [\n",
    "    \"apt-get update && apt-get install -y cmake gcc g++ libglu1-mesa-dev\",\n",
    "    \"python -m pip install -r https://raw.githubusercontent.com/ultralytics/yolov5/master/requirements.txt\",\n",
    "    \"python -m pip install minio\"\n",
    "]"
   ]
  },
  {
   "cell_type": "markdown",
   "id": "b28a4269",
   "metadata": {},
   "source": [
    "building the image should take some minutes until all the packages are instaled in the image"
   ]
  },
  {
   "cell_type": "code",
   "execution_count": null,
   "id": "a541275b-45f7-4051-be26-b47e51be0e51",
   "metadata": {
    "scrolled": true,
    "tags": []
   },
   "outputs": [],
   "source": [
    "project.build_function(fn)"
   ]
  },
  {
   "cell_type": "markdown",
   "id": "248ff58f",
   "metadata": {},
   "source": [
    "Finally we can proceed to do the training were we pass to our function the params of training."
   ]
  },
  {
   "cell_type": "code",
   "execution_count": null,
   "id": "bdf0a0c6-a24f-4faf-8e25-4c6cc3e2b743",
   "metadata": {},
   "outputs": [],
   "source": [
    "from kubernetes import client\n",
    "tol = [\n",
    "    client.V1Toleration(\n",
    "        key='nvidia.com/gpu',\n",
    "        operator='Equal',\n",
    "        value='v100',\\\n",
    "        effect='NoSchedule',\n",
    "    )\n",
    "]\n",
    "fn.with_node_selection(tolerations=tol)\n",
    "fn.with_limits(gpus=1,mem=\"70G\")"
   ]
  },
  {
   "cell_type": "code",
   "execution_count": null,
   "id": "29ce58a2-8c0e-4cc3-b233-44754f1f0d5b",
   "metadata": {
    "scrolled": true,
    "tags": []
   },
   "outputs": [],
   "source": [
    "params = {\"data\": 'coco128.yaml', \"epochs\": 1, \"imgsz\":640, \"base_model\": \"yolov8n.pt\", \"workers\":0, \"device\":0}\n",
    "fn.run(params={'params': params})"
   ]
  },
  {
   "cell_type": "markdown",
   "id": "9617acb8",
   "metadata": {},
   "source": [
    "The training files are available on Minio, under the bucket `models`, organized by date and time. The best model is `best.pt` in the path  `<date>/runs/detect/train/weights/best.pt`."
   ]
  }
 ],
 "metadata": {
  "kernelspec": {
   "display_name": "Python 3 (ipykernel)",
   "language": "python",
   "name": "python3"
  },
  "language_info": {
   "codemirror_mode": {
    "name": "ipython",
    "version": 3
   },
   "file_extension": ".py",
   "mimetype": "text/x-python",
   "name": "python",
   "nbconvert_exporter": "python",
   "pygments_lexer": "ipython3",
   "version": "3.9.13"
  }
 },
 "nbformat": 4,
 "nbformat_minor": 5
}
